{
 "cells": [
  {
   "cell_type": "markdown",
   "id": "96821cdb",
   "metadata": {
    "papermill": {
     "duration": 0.009429,
     "end_time": "2023-06-18T11:28:35.390077",
     "exception": false,
     "start_time": "2023-06-18T11:28:35.380648",
     "status": "completed"
    },
    "tags": []
   },
   "source": [
    "# Preparació de dades"
   ]
  },
  {
   "cell_type": "code",
   "execution_count": 1,
   "id": "954ccf89",
   "metadata": {
    "execution": {
     "iopub.execute_input": "2023-06-18T11:28:35.408856Z",
     "iopub.status.busy": "2023-06-18T11:28:35.408304Z",
     "iopub.status.idle": "2023-06-18T11:28:36.684369Z",
     "shell.execute_reply": "2023-06-18T11:28:36.682745Z"
    },
    "papermill": {
     "duration": 1.290055,
     "end_time": "2023-06-18T11:28:36.688318",
     "exception": false,
     "start_time": "2023-06-18T11:28:35.398263",
     "status": "completed"
    },
    "tags": []
   },
   "outputs": [],
   "source": [
    "import pandas as pd\n",
    "import numpy as np\n",
    "import h5py\n",
    "import os\n",
    "\n",
    "from sklearn.preprocessing import MinMaxScaler, StandardScaler"
   ]
  },
  {
   "cell_type": "markdown",
   "id": "a24c8531",
   "metadata": {
    "papermill": {
     "duration": 0.008207,
     "end_time": "2023-06-18T11:28:36.705260",
     "exception": false,
     "start_time": "2023-06-18T11:28:36.697053",
     "status": "completed"
    },
    "tags": []
   },
   "source": [
    "## Lectura de dades de l'ABC Database"
   ]
  },
  {
   "cell_type": "code",
   "execution_count": 2,
   "id": "86e7f2c6",
   "metadata": {
    "execution": {
     "iopub.execute_input": "2023-06-18T11:28:36.724574Z",
     "iopub.status.busy": "2023-06-18T11:28:36.724057Z",
     "iopub.status.idle": "2023-06-18T11:28:37.595765Z",
     "shell.execute_reply": "2023-06-18T11:28:37.594513Z"
    },
    "papermill": {
     "duration": 0.885476,
     "end_time": "2023-06-18T11:28:37.599105",
     "exception": false,
     "start_time": "2023-06-18T11:28:36.713629",
     "status": "completed"
    },
    "tags": []
   },
   "outputs": [],
   "source": [
    "# Dades auxiliars (paràmetres planetaris i estel·lars)\n",
    "df_aux = pd.read_csv(\"/kaggle/input/abc-database/Level2Data/AuxillaryTable.csv\")\n",
    "\n",
    "# Espectres atmosfèrics (variables predictores)\n",
    "spectral_data = h5py.File(\"/kaggle/input/abc-database/Level2Data/SpectralData.hdf5\", 'r')\n",
    "\n",
    "# Paràmetres atmosfèrics (variables objectiu)\n",
    "FM_params = pd.read_csv(\"/kaggle/input/abc-database/Level2Data/Ground Truth Package/FM_Parameter_Table.csv\")"
   ]
  },
  {
   "cell_type": "markdown",
   "id": "15d323ee",
   "metadata": {
    "papermill": {
     "duration": 0.007686,
     "end_time": "2023-06-18T11:28:37.614937",
     "exception": false,
     "start_time": "2023-06-18T11:28:37.607251",
     "status": "completed"
    },
    "tags": []
   },
   "source": [
    "### Estructura de les dades"
   ]
  },
  {
   "cell_type": "code",
   "execution_count": 3,
   "id": "fc55c393",
   "metadata": {
    "execution": {
     "iopub.execute_input": "2023-06-18T11:28:37.633071Z",
     "iopub.status.busy": "2023-06-18T11:28:37.632600Z",
     "iopub.status.idle": "2023-06-18T11:29:09.232413Z",
     "shell.execute_reply": "2023-06-18T11:29:09.230843Z"
    },
    "papermill": {
     "duration": 31.620572,
     "end_time": "2023-06-18T11:29:09.243551",
     "exception": false,
     "start_time": "2023-06-18T11:28:37.622979",
     "status": "completed"
    },
    "tags": []
   },
   "outputs": [
    {
     "name": "stdout",
     "output_type": "stream",
     "text": [
      "Nombre total de dades auxiliars:  (91392, 10)\n",
      "Nombre total d'espectres: 91392\n",
      "Nombre total de FM_params rows:  (91392, 7)\n"
     ]
    }
   ],
   "source": [
    "print(\"Nombre total de dades auxiliars: \", df_aux.shape)\n",
    "print(\"Nombre total d'espectres:\", len(spectral_data.keys()))\n",
    "print(\"Nombre total de FM_params rows: \", FM_params.shape)\n",
    "\n",
    "# Exemple de les primeres keys: són el planet_ID\n",
    "#list(spectral_data.keys())[:5]\n",
    "\n",
    "# Per cada planeta, tenim:\n",
    "#list(spectral_data['Planet_0'].keys())"
   ]
  },
  {
   "cell_type": "markdown",
   "id": "24b87684",
   "metadata": {
    "papermill": {
     "duration": 0.007968,
     "end_time": "2023-06-18T11:29:09.260003",
     "exception": false,
     "start_time": "2023-06-18T11:29:09.252035",
     "status": "completed"
    },
    "tags": []
   },
   "source": [
    "Comprovem si els registres estan alineats entre conjunts de dades.\n",
    "\n",
    "Veiem que no: els espectres atmosfèrics (spectral_data) estan desordenats, per tant, ens interessa alinear-los amb els altres dos conjunts de dades (FM_params i df_aux)."
   ]
  },
  {
   "cell_type": "code",
   "execution_count": 4,
   "id": "5a16f91a",
   "metadata": {
    "execution": {
     "iopub.execute_input": "2023-06-18T11:29:09.278716Z",
     "iopub.status.busy": "2023-06-18T11:29:09.278234Z",
     "iopub.status.idle": "2023-06-18T11:29:09.646252Z",
     "shell.execute_reply": "2023-06-18T11:29:09.644551Z"
    },
    "papermill": {
     "duration": 0.38091,
     "end_time": "2023-06-18T11:29:09.649363",
     "exception": false,
     "start_time": "2023-06-18T11:29:09.268453",
     "status": "completed"
    },
    "tags": []
   },
   "outputs": [
    {
     "name": "stdout",
     "output_type": "stream",
     "text": [
      "[0 1 2 3 4]\n",
      "[0 1 2 3 4]\n",
      "['Planet_0', 'Planet_1', 'Planet_10', 'Planet_100', 'Planet_1000']\n"
     ]
    }
   ],
   "source": [
    "# Comparem estructura de la columna ID\n",
    "# FM_params i df_aux coincideixen. spectral_data està desordenat\n",
    "print(df_aux['planet_ID'].to_numpy()[:5])\n",
    "print(FM_params['planet_ID'].to_numpy()[:5])\n",
    "print(list(spectral_data.keys())[:5])"
   ]
  },
  {
   "cell_type": "markdown",
   "id": "9fd719ff",
   "metadata": {
    "papermill": {
     "duration": 0.008311,
     "end_time": "2023-06-18T11:29:09.666182",
     "exception": false,
     "start_time": "2023-06-18T11:29:09.657871",
     "status": "completed"
    },
    "tags": []
   },
   "source": [
    "## Preparar dades X (espectres)"
   ]
  },
  {
   "cell_type": "markdown",
   "id": "db6cf696",
   "metadata": {
    "papermill": {
     "duration": 0.007675,
     "end_time": "2023-06-18T11:29:09.681962",
     "exception": false,
     "start_time": "2023-06-18T11:29:09.674287",
     "status": "completed"
    },
    "tags": []
   },
   "source": [
    "Ordenem els espectres perquè coincideixin amb les dades auxiliars i els paràmetres atmosfèrics."
   ]
  },
  {
   "cell_type": "code",
   "execution_count": 5,
   "id": "25508a8f",
   "metadata": {
    "execution": {
     "iopub.execute_input": "2023-06-18T11:29:09.701574Z",
     "iopub.status.busy": "2023-06-18T11:29:09.701084Z",
     "iopub.status.idle": "2023-06-18T11:29:09.710459Z",
     "shell.execute_reply": "2023-06-18T11:29:09.709334Z"
    },
    "papermill": {
     "duration": 0.022053,
     "end_time": "2023-06-18T11:29:09.713254",
     "exception": false,
     "start_time": "2023-06-18T11:29:09.691201",
     "status": "completed"
    },
    "tags": []
   },
   "outputs": [],
   "source": [
    "# Noms de les variables espectrals\n",
    "wl_values = np.round(spectral_data['Planet_0']['instrument_wlgrid'][:], 2)\n",
    "wl_names = ['wl_' + str(x) for x in wl_values ]\n"
   ]
  },
  {
   "cell_type": "code",
   "execution_count": 6,
   "id": "83690a70",
   "metadata": {
    "execution": {
     "iopub.execute_input": "2023-06-18T11:29:09.732294Z",
     "iopub.status.busy": "2023-06-18T11:29:09.731823Z",
     "iopub.status.idle": "2023-06-18T11:29:09.740557Z",
     "shell.execute_reply": "2023-06-18T11:29:09.739236Z"
    },
    "papermill": {
     "duration": 0.021645,
     "end_time": "2023-06-18T11:29:09.743059",
     "exception": false,
     "start_time": "2023-06-18T11:29:09.721414",
     "status": "completed"
    },
    "tags": []
   },
   "outputs": [],
   "source": [
    "# Funció per posar tots els espectres (data_file) en una matriu,\n",
    "# ordenats igual que en FM_params o df_aux (aux_file)\n",
    "def to_observed_matrix(data_file,aux_file):\n",
    "    # Els espectres estan desordenats. Els alineem amb les dades auxiliars.\n",
    "    id_order = aux_file['planet_ID'].to_numpy() # IDs de les dades auxiliars --> array([    0,     1,     2, ..., 91389, 91390, 91391])\n",
    "    \n",
    "    # Inicialitzem array per posar-hi els espectres\n",
    "    num = len(data_file.keys()) # Nombre d'espectres\n",
    "    observed_spectrum = np.zeros((num, 52)) \n",
    "\n",
    "    for idx, x in enumerate(id_order):\n",
    "        current_planet_id = f'Planet_{x}'\n",
    "        observed_spectrum[idx,:] = data_file[current_planet_id]['instrument_spectrum'][:]\n",
    "        \n",
    "    return observed_spectrum"
   ]
  },
  {
   "cell_type": "code",
   "execution_count": 7,
   "id": "459e8aeb",
   "metadata": {
    "execution": {
     "iopub.execute_input": "2023-06-18T11:29:09.761440Z",
     "iopub.status.busy": "2023-06-18T11:29:09.761005Z",
     "iopub.status.idle": "2023-06-18T11:29:40.740700Z",
     "shell.execute_reply": "2023-06-18T11:29:40.739782Z"
    },
    "papermill": {
     "duration": 30.99983,
     "end_time": "2023-06-18T11:29:40.751026",
     "exception": false,
     "start_time": "2023-06-18T11:29:09.751196",
     "status": "completed"
    },
    "tags": []
   },
   "outputs": [
    {
     "name": "stdout",
     "output_type": "stream",
     "text": [
      "Dimensions de la matriu d'espectres:  (91392, 52)\n",
      "Mostra d'un espectre raw: \n",
      " [0.00167053 0.00145612 0.00146214 0.00143407 0.00138982 0.00134926\n",
      " 0.00131032 0.00128092 0.00131345 0.00135396 0.00149923 0.00156278\n",
      " 0.00163719 0.00167336 0.00168792 0.001731   0.00174372 0.00170247\n",
      " 0.0017284  0.00165156 0.00150569 0.00136781 0.00130069 0.00125444\n",
      " 0.00122416 0.00121673 0.00125308 0.00131122 0.00136757 0.00138232\n",
      " 0.00142169 0.00146799 0.00151336 0.00154108 0.00151537 0.00150134\n",
      " 0.00147106 0.00138322 0.00130667 0.00124601 0.00118818 0.00115435\n",
      " 0.00115514 0.00122624 0.00133425 0.00117747 0.00125106 0.00112899\n",
      " 0.00120413 0.00108887 0.00099446 0.00103997]\n"
     ]
    }
   ],
   "source": [
    "# Creem la matriu d'espectres observats (X)\n",
    "observed_matrix = to_observed_matrix(spectral_data, FM_params)\n",
    "print(\"Dimensions de la matriu d'espectres: \", observed_matrix.shape)\n",
    "\n",
    "# Mostra d'un espectre raw:\n",
    "print(\"Mostra d'un espectre raw: \\n\", observed_matrix[0,:])"
   ]
  },
  {
   "cell_type": "markdown",
   "id": "39e278e4",
   "metadata": {
    "papermill": {
     "duration": 0.008369,
     "end_time": "2023-06-18T11:29:40.768423",
     "exception": false,
     "start_time": "2023-06-18T11:29:40.760054",
     "status": "completed"
    },
    "tags": []
   },
   "source": [
    "A continuació, escalem cada espectre entre 0 i 100, per maximitzar la senyal de les seves característiques."
   ]
  },
  {
   "cell_type": "code",
   "execution_count": 8,
   "id": "e05235c7",
   "metadata": {
    "execution": {
     "iopub.execute_input": "2023-06-18T11:29:40.787926Z",
     "iopub.status.busy": "2023-06-18T11:29:40.786635Z",
     "iopub.status.idle": "2023-06-18T11:29:40.897723Z",
     "shell.execute_reply": "2023-06-18T11:29:40.896059Z"
    },
    "papermill": {
     "duration": 0.124135,
     "end_time": "2023-06-18T11:29:40.901075",
     "exception": false,
     "start_time": "2023-06-18T11:29:40.776940",
     "status": "completed"
    },
    "tags": []
   },
   "outputs": [
    {
     "name": "stdout",
     "output_type": "stream",
     "text": [
      "Mostra d'un espectre raw: \n",
      " [ 90.231  61.615  62.418  58.672  52.766  47.353  42.156  38.232  42.573\n",
      "  47.98   67.369  75.851  85.781  90.609  92.552  98.302 100.     94.495\n",
      "  97.955  87.7    68.231  49.829  40.87   34.697  30.656  29.665  34.517\n",
      "  42.276  49.797  51.766  57.02   63.199  69.255  72.954  69.523  67.651\n",
      "  63.609  51.885  41.669  33.573  25.855  21.34   21.445  30.934  45.349\n",
      "  24.425  34.247  17.954  27.984  12.6     0.      6.073]\n"
     ]
    }
   ],
   "source": [
    "# Escalem cada espectre entre 0 i 100.\n",
    "scaler = MinMaxScaler(feature_range = (0,100))\n",
    "observed_matrix_scaled = scaler.fit_transform(observed_matrix.T).T\n",
    "observed_matrix_scaled = np.round(observed_matrix_scaled,3)\n",
    "\n",
    "# Mostra d'un espectre escalat\n",
    "print(\"Mostra d'un espectre raw: \\n\", observed_matrix_scaled[0,:])"
   ]
  },
  {
   "cell_type": "markdown",
   "id": "f395426a",
   "metadata": {
    "papermill": {
     "duration": 0.008062,
     "end_time": "2023-06-18T11:29:40.917609",
     "exception": false,
     "start_time": "2023-06-18T11:29:40.909547",
     "status": "completed"
    },
    "tags": []
   },
   "source": [
    "### Reducció de la memòria de X"
   ]
  },
  {
   "cell_type": "markdown",
   "id": "c6aad258",
   "metadata": {
    "papermill": {
     "duration": 0.007958,
     "end_time": "2023-06-18T11:29:40.934043",
     "exception": false,
     "start_time": "2023-06-18T11:29:40.926085",
     "status": "completed"
    },
    "tags": []
   },
   "source": [
    "Com que es tracta d'un conjunt de dades molt gran, optimitzem l'ús de memòria:"
   ]
  },
  {
   "cell_type": "code",
   "execution_count": 9,
   "id": "90542b4d",
   "metadata": {
    "execution": {
     "iopub.execute_input": "2023-06-18T11:29:40.954279Z",
     "iopub.status.busy": "2023-06-18T11:29:40.952968Z",
     "iopub.status.idle": "2023-06-18T11:29:40.973208Z",
     "shell.execute_reply": "2023-06-18T11:29:40.971782Z"
    },
    "papermill": {
     "duration": 0.033718,
     "end_time": "2023-06-18T11:29:40.976256",
     "exception": false,
     "start_time": "2023-06-18T11:29:40.942538",
     "status": "completed"
    },
    "tags": []
   },
   "outputs": [],
   "source": [
    "# Funció que optimitza l'ús de memòria per grans conjunts de dades\n",
    "# https://www.kaggle.com/general/156268\n",
    "# https://www.kaggle.com/code/rinnqd/reduce-memory-usage/notebook\n",
    "def reduce_mem_usage(df, verbose=True):\n",
    "    numerics = ['int16', 'int32', 'int64', 'float16', 'float32', 'float64']\n",
    "    start_mem = df.memory_usage().sum() / 1024**2\n",
    "    for col in df.columns:\n",
    "        col_type = df[col].dtypes\n",
    "        if col_type in numerics:\n",
    "            c_min = df[col].min()\n",
    "            c_max = df[col].max()\n",
    "            if str(col_type)[:3] == 'int':\n",
    "                if c_min > np.iinfo(np.int8).min and c_max < np.iinfo(np.int8).max:\n",
    "                    df[col] = df[col].astype(np.int8)\n",
    "                elif c_min > np.iinfo(np.int16).min and c_max < np.iinfo(np.int16).max:\n",
    "                    df[col] = df[col].astype(np.int16)\n",
    "                elif c_min > np.iinfo(np.int32).min and c_max < np.iinfo(np.int32).max:\n",
    "                    df[col] = df[col].astype(np.int32)\n",
    "                elif c_min > np.iinfo(np.int64).min and c_max < np.iinfo(np.int64).max:\n",
    "                    df[col] = df[col].astype(np.int64)\n",
    "            else:\n",
    "                if c_min > np.finfo(np.float16).min and c_max < np.finfo(np.float16).max:\n",
    "                    df[col] = df[col].astype(np.float16)\n",
    "                elif c_min > np.finfo(np.float32).min and c_max < np.finfo(np.float32).max:\n",
    "                    df[col] = df[col].astype(np.float32)\n",
    "                else:\n",
    "                    df[col] = df[col].astype(np.float64)\n",
    "\n",
    "    end_mem = df.memory_usage().sum() / 1024**2\n",
    "    print('Memory usage after optimization is: {:.2f} MB'.format(end_mem))\n",
    "    print('Decreased by {:.1f}%'.format(100 * (start_mem - end_mem) / start_mem))\n",
    "\n",
    "    return df"
   ]
  },
  {
   "cell_type": "code",
   "execution_count": 10,
   "id": "7c0d4825",
   "metadata": {
    "execution": {
     "iopub.execute_input": "2023-06-18T11:29:40.995648Z",
     "iopub.status.busy": "2023-06-18T11:29:40.994902Z",
     "iopub.status.idle": "2023-06-18T11:29:41.570378Z",
     "shell.execute_reply": "2023-06-18T11:29:41.568537Z"
    },
    "papermill": {
     "duration": 0.58885,
     "end_time": "2023-06-18T11:29:41.573606",
     "exception": false,
     "start_time": "2023-06-18T11:29:40.984756",
     "status": "completed"
    },
    "tags": []
   },
   "outputs": [
    {
     "name": "stdout",
     "output_type": "stream",
     "text": [
      "Memory usage after optimization is: 9.06 MB\n",
      "Decreased by 75.0%\n"
     ]
    }
   ],
   "source": [
    "df = pd.DataFrame(observed_matrix_scaled)\n",
    "#df.memory_usage().sum() / 1024**2 #MB\n",
    "df_reduced = reduce_mem_usage(df)\n",
    "observed_matrix_scaled_reduced = df_reduced.values\n"
   ]
  },
  {
   "cell_type": "markdown",
   "id": "cd525b24",
   "metadata": {
    "papermill": {
     "duration": 0.008885,
     "end_time": "2023-06-18T11:29:41.591382",
     "exception": false,
     "start_time": "2023-06-18T11:29:41.582497",
     "status": "completed"
    },
    "tags": []
   },
   "source": [
    "## Preparar dades Y (paràmetres atmosfèrics)"
   ]
  },
  {
   "cell_type": "code",
   "execution_count": 11,
   "id": "9d965044",
   "metadata": {
    "execution": {
     "iopub.execute_input": "2023-06-18T11:29:41.612059Z",
     "iopub.status.busy": "2023-06-18T11:29:41.611010Z",
     "iopub.status.idle": "2023-06-18T11:29:41.627223Z",
     "shell.execute_reply": "2023-06-18T11:29:41.625916Z"
    },
    "papermill": {
     "duration": 0.029346,
     "end_time": "2023-06-18T11:29:41.629744",
     "exception": false,
     "start_time": "2023-06-18T11:29:41.600398",
     "status": "completed"
    },
    "tags": []
   },
   "outputs": [
    {
     "data": {
      "text/plain": [
       "(91392, 6)"
      ]
     },
     "execution_count": 11,
     "metadata": {},
     "output_type": "execute_result"
    }
   ],
   "source": [
    "# Creem la matriu de variables resposta (ja està ben ordenada)\n",
    "params_matrix = FM_params.drop(['planet_ID'], axis=1).to_numpy()\n",
    "params_matrix.shape\n",
    "\n",
    "#scaler_Y = StandardScaler()\n",
    "#params_matrix_scaled = scaler_Y.fit_transform(params_matrix)"
   ]
  },
  {
   "cell_type": "code",
   "execution_count": 12,
   "id": "12326405",
   "metadata": {
    "execution": {
     "iopub.execute_input": "2023-06-18T11:29:41.650018Z",
     "iopub.status.busy": "2023-06-18T11:29:41.649017Z",
     "iopub.status.idle": "2023-06-18T11:29:41.660083Z",
     "shell.execute_reply": "2023-06-18T11:29:41.658691Z"
    },
    "papermill": {
     "duration": 0.024204,
     "end_time": "2023-06-18T11:29:41.662945",
     "exception": false,
     "start_time": "2023-06-18T11:29:41.638741",
     "status": "completed"
    },
    "tags": []
   },
   "outputs": [
    {
     "data": {
      "text/plain": [
       "['planet_temp', 'log_H2O', 'log_CO2', 'log_CH4', 'log_CO', 'log_NH3']"
      ]
     },
     "execution_count": 12,
     "metadata": {},
     "output_type": "execute_result"
    }
   ],
   "source": [
    "# Noms de les variables resposta\n",
    "param_names = FM_params.drop(['planet_ID'], axis=1).columns.tolist()\n",
    "param_names"
   ]
  },
  {
   "cell_type": "markdown",
   "id": "494f84a8",
   "metadata": {
    "papermill": {
     "duration": 0.00821,
     "end_time": "2023-06-18T11:29:41.680305",
     "exception": false,
     "start_time": "2023-06-18T11:29:41.672095",
     "status": "completed"
    },
    "tags": []
   },
   "source": [
    "## Guardar les dades"
   ]
  },
  {
   "cell_type": "code",
   "execution_count": 13,
   "id": "7339d640",
   "metadata": {
    "execution": {
     "iopub.execute_input": "2023-06-18T11:29:41.700106Z",
     "iopub.status.busy": "2023-06-18T11:29:41.699128Z",
     "iopub.status.idle": "2023-06-18T11:29:41.815638Z",
     "shell.execute_reply": "2023-06-18T11:29:41.814168Z"
    },
    "papermill": {
     "duration": 0.130127,
     "end_time": "2023-06-18T11:29:41.819062",
     "exception": false,
     "start_time": "2023-06-18T11:29:41.688935",
     "status": "completed"
    },
    "tags": []
   },
   "outputs": [],
   "source": [
    "# Guardar un array (https://www.kaggle.com/code/febymelania/save-and-load-array)\n",
    "\n",
    "# Dades X \n",
    "np.save('/kaggle/working/X_names', wl_names)\n",
    "np.save('/kaggle/working/X_wl_values', wl_values)\n",
    "np.save('/kaggle/working/X', observed_matrix)\n",
    "np.save('/kaggle/working/X_minMaxScaled', observed_matrix_scaled) # scaled\n",
    "np.save('/kaggle/working/X_minMaxScaled_opt', observed_matrix_scaled_reduced) # scaled + memory-optimised\n",
    "\n",
    "# Dades Y \n",
    "np.save('/kaggle/working/Y_FM_names', param_names)\n",
    "np.save('/kaggle/working/Y_FM', params_matrix)\n",
    "#np.save('/kaggle/working/Y_FM_standScaled', params_matrix_scaled)\n",
    "\n"
   ]
  },
  {
   "cell_type": "code",
   "execution_count": 14,
   "id": "e60ad84d",
   "metadata": {
    "execution": {
     "iopub.execute_input": "2023-06-18T11:29:41.838815Z",
     "iopub.status.busy": "2023-06-18T11:29:41.838315Z",
     "iopub.status.idle": "2023-06-18T11:29:41.843203Z",
     "shell.execute_reply": "2023-06-18T11:29:41.842279Z"
    },
    "papermill": {
     "duration": 0.01756,
     "end_time": "2023-06-18T11:29:41.845527",
     "exception": false,
     "start_time": "2023-06-18T11:29:41.827967",
     "status": "completed"
    },
    "tags": []
   },
   "outputs": [],
   "source": [
    "# Carregar dades guardades\n",
    "# np.load('/kaggle/working/X_minMaxScaled_opt.npy') \n",
    "\n",
    "# Eliminar fitxers\n",
    "# os.remove(\"/kaggle/working/X_data_names.npy\")\n",
    "# os.remove(\"/kaggle/working/X_data_minMaxScaled.npy\")\n",
    "# os.remove(\"/kaggle/working/Y_data_names.npy\")\n",
    "# os.remove(\"/kaggle/working/Y_data_standScaled.npy\")"
   ]
  }
 ],
 "metadata": {
  "kernelspec": {
   "display_name": "Python 3",
   "language": "python",
   "name": "python3"
  },
  "language_info": {
   "codemirror_mode": {
    "name": "ipython",
    "version": 3
   },
   "file_extension": ".py",
   "mimetype": "text/x-python",
   "name": "python",
   "nbconvert_exporter": "python",
   "pygments_lexer": "ipython3",
   "version": "3.7.12"
  },
  "papermill": {
   "default_parameters": {},
   "duration": 80.835607,
   "end_time": "2023-06-18T11:29:42.977986",
   "environment_variables": {},
   "exception": null,
   "input_path": "__notebook__.ipynb",
   "output_path": "__notebook__.ipynb",
   "parameters": {},
   "start_time": "2023-06-18T11:28:22.142379",
   "version": "2.4.0"
  }
 },
 "nbformat": 4,
 "nbformat_minor": 5
}
