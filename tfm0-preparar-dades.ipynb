{
 "cells": [
  {
   "cell_type": "markdown",
   "metadata": {
    "papermill": {
     "duration": 0.007142,
     "end_time": "2023-06-18T09:18:23.804267",
     "exception": false,
     "start_time": "2023-06-18T09:18:23.797125",
     "status": "completed"
    },
    "tags": []
   },
   "source": [
    "# Preparació de dades"
   ]
  },
  {
   "cell_type": "markdown",
   "metadata": {
    "papermill": {
     "duration": 0.005681,
     "end_time": "2023-06-18T09:18:23.816168",
     "exception": false,
     "start_time": "2023-06-18T09:18:23.810487",
     "status": "completed"
    },
    "tags": []
   },
   "source": [
    "> *Elisabet Ejarque Gonzalez, Juny de 2023*"
   ]
  },
  {
   "cell_type": "code",
   "execution_count": 1,
   "metadata": {
    "execution": {
     "iopub.execute_input": "2023-06-18T09:18:23.830862Z",
     "iopub.status.busy": "2023-06-18T09:18:23.830088Z",
     "iopub.status.idle": "2023-06-18T09:18:25.174347Z",
     "shell.execute_reply": "2023-06-18T09:18:25.172899Z"
    },
    "papermill": {
     "duration": 1.354878,
     "end_time": "2023-06-18T09:18:25.177323",
     "exception": false,
     "start_time": "2023-06-18T09:18:23.822445",
     "status": "completed"
    },
    "tags": []
   },
   "outputs": [],
   "source": [
    "import pandas as pd\n",
    "import numpy as np\n",
    "import h5py\n",
    "import os\n",
    "\n",
    "from sklearn.preprocessing import MinMaxScaler, StandardScaler"
   ]
  },
  {
   "cell_type": "markdown",
   "metadata": {
    "papermill": {
     "duration": 0.005947,
     "end_time": "2023-06-18T09:18:25.189772",
     "exception": false,
     "start_time": "2023-06-18T09:18:25.183825",
     "status": "completed"
    },
    "tags": []
   },
   "source": [
    "## Lectura de dades de l'ABC Database"
   ]
  },
  {
   "cell_type": "code",
   "execution_count": 2,
   "metadata": {
    "execution": {
     "iopub.execute_input": "2023-06-18T09:18:25.204329Z",
     "iopub.status.busy": "2023-06-18T09:18:25.203903Z",
     "iopub.status.idle": "2023-06-18T09:18:25.690394Z",
     "shell.execute_reply": "2023-06-18T09:18:25.689205Z"
    },
    "papermill": {
     "duration": 0.497279,
     "end_time": "2023-06-18T09:18:25.693529",
     "exception": false,
     "start_time": "2023-06-18T09:18:25.196250",
     "status": "completed"
    },
    "tags": []
   },
   "outputs": [],
   "source": [
    "# Dades auxiliars (paràmetres planetaris i estel·lars)\n",
    "df_aux = pd.read_csv(\"/kaggle/input/abc-database/Level2Data/AuxillaryTable.csv\")\n",
    "\n",
    "# Espectres atmosfèrics (variables predictores)\n",
    "spectral_data = h5py.File(\"/kaggle/input/abc-database/Level2Data/SpectralData.hdf5\", 'r')\n",
    "\n",
    "# Paràmetres atmosfèrics (variables objectiu)\n",
    "FM_params = pd.read_csv(\"/kaggle/input/abc-database/Level2Data/Ground Truth Package/FM_Parameter_Table.csv\")"
   ]
  },
  {
   "cell_type": "markdown",
   "metadata": {
    "papermill": {
     "duration": 0.005853,
     "end_time": "2023-06-18T09:18:25.705943",
     "exception": false,
     "start_time": "2023-06-18T09:18:25.700090",
     "status": "completed"
    },
    "tags": []
   },
   "source": [
    "### Estructura de les dades"
   ]
  },
  {
   "cell_type": "code",
   "execution_count": 3,
   "metadata": {
    "execution": {
     "iopub.execute_input": "2023-06-18T09:18:25.720440Z",
     "iopub.status.busy": "2023-06-18T09:18:25.720035Z",
     "iopub.status.idle": "2023-06-18T09:18:52.041307Z",
     "shell.execute_reply": "2023-06-18T09:18:52.039685Z"
    },
    "papermill": {
     "duration": 26.331667,
     "end_time": "2023-06-18T09:18:52.044115",
     "exception": false,
     "start_time": "2023-06-18T09:18:25.712448",
     "status": "completed"
    },
    "tags": []
   },
   "outputs": [
    {
     "name": "stdout",
     "output_type": "stream",
     "text": [
      "Nombre total de dades auxiliars:  (91392, 10)\n",
      "Nombre total d'espectres: 91392\n",
      "Nombre total de FM_params rows:  (91392, 7)\n"
     ]
    }
   ],
   "source": [
    "print(\"Nombre total de dades auxiliars: \", df_aux.shape)\n",
    "print(\"Nombre total d'espectres:\", len(spectral_data.keys()))\n",
    "print(\"Nombre total de FM_params rows: \", FM_params.shape)\n",
    "\n",
    "# Exemple de les primeres keys: són el planet_ID\n",
    "#list(spectral_data.keys())[:5]\n",
    "\n",
    "# Per cada planeta, tenim:\n",
    "#list(spectral_data['Planet_0'].keys())"
   ]
  },
  {
   "cell_type": "markdown",
   "metadata": {
    "papermill": {
     "duration": 0.006086,
     "end_time": "2023-06-18T09:18:52.056730",
     "exception": false,
     "start_time": "2023-06-18T09:18:52.050644",
     "status": "completed"
    },
    "tags": []
   },
   "source": [
    "Comprovem si els registres estan alineats entre conjunts de dades.\n",
    "\n",
    "Veiem que no: els espectres atmosfèrics (spectral_data) estan desordenats, per tant, ens interessa alinear-los amb els altres dos conjunts de dades (FM_params i df_aux)."
   ]
  },
  {
   "cell_type": "code",
   "execution_count": 4,
   "metadata": {
    "execution": {
     "iopub.execute_input": "2023-06-18T09:18:52.071176Z",
     "iopub.status.busy": "2023-06-18T09:18:52.070746Z",
     "iopub.status.idle": "2023-06-18T09:18:52.388215Z",
     "shell.execute_reply": "2023-06-18T09:18:52.386460Z"
    },
    "papermill": {
     "duration": 0.328075,
     "end_time": "2023-06-18T09:18:52.390932",
     "exception": false,
     "start_time": "2023-06-18T09:18:52.062857",
     "status": "completed"
    },
    "tags": []
   },
   "outputs": [
    {
     "name": "stdout",
     "output_type": "stream",
     "text": [
      "[0 1 2 3 4]\n",
      "[0 1 2 3 4]\n",
      "['Planet_0', 'Planet_1', 'Planet_10', 'Planet_100', 'Planet_1000']\n"
     ]
    }
   ],
   "source": [
    "# Comparem estructura de la columna ID\n",
    "# FM_params i df_aux coincideixen. spectral_data està desordenat\n",
    "print(df_aux['planet_ID'].to_numpy()[:5])\n",
    "print(FM_params['planet_ID'].to_numpy()[:5])\n",
    "print(list(spectral_data.keys())[:5])"
   ]
  },
  {
   "cell_type": "markdown",
   "metadata": {
    "papermill": {
     "duration": 0.006171,
     "end_time": "2023-06-18T09:18:52.404231",
     "exception": false,
     "start_time": "2023-06-18T09:18:52.398060",
     "status": "completed"
    },
    "tags": []
   },
   "source": [
    "## Preparar dades X (espectres)"
   ]
  },
  {
   "cell_type": "markdown",
   "metadata": {
    "papermill": {
     "duration": 0.007431,
     "end_time": "2023-06-18T09:18:52.418273",
     "exception": false,
     "start_time": "2023-06-18T09:18:52.410842",
     "status": "completed"
    },
    "tags": []
   },
   "source": [
    "Ordenem els espectres perquè coincideixin amb les dades auxiliars i els paràmetres atmosfèrics."
   ]
  },
  {
   "cell_type": "code",
   "execution_count": 5,
   "metadata": {
    "execution": {
     "iopub.execute_input": "2023-06-18T09:18:52.433528Z",
     "iopub.status.busy": "2023-06-18T09:18:52.433112Z",
     "iopub.status.idle": "2023-06-18T09:18:52.443249Z",
     "shell.execute_reply": "2023-06-18T09:18:52.441945Z"
    },
    "papermill": {
     "duration": 0.021207,
     "end_time": "2023-06-18T09:18:52.446168",
     "exception": false,
     "start_time": "2023-06-18T09:18:52.424961",
     "status": "completed"
    },
    "tags": []
   },
   "outputs": [],
   "source": [
    "# Noms de les variables espectrals\n",
    "wl_values = np.round(spectral_data['Planet_0']['instrument_wlgrid'][:], 2)\n",
    "wl_names = ['wl_' + str(x) for x in wl_values ]\n"
   ]
  },
  {
   "cell_type": "code",
   "execution_count": 6,
   "metadata": {
    "execution": {
     "iopub.execute_input": "2023-06-18T09:18:52.460949Z",
     "iopub.status.busy": "2023-06-18T09:18:52.460496Z",
     "iopub.status.idle": "2023-06-18T09:18:52.468522Z",
     "shell.execute_reply": "2023-06-18T09:18:52.467055Z"
    },
    "papermill": {
     "duration": 0.01855,
     "end_time": "2023-06-18T09:18:52.471303",
     "exception": false,
     "start_time": "2023-06-18T09:18:52.452753",
     "status": "completed"
    },
    "tags": []
   },
   "outputs": [],
   "source": [
    "# Funció per posar tots els espectres (data_file) en una matriu,\n",
    "# ordenats igual que en FM_params o df_aux (aux_file)\n",
    "def to_observed_matrix(data_file,aux_file):\n",
    "    # Els espectres estan desordenats. Els alineem amb les dades auxiliars.\n",
    "    id_order = aux_file['planet_ID'].to_numpy() # IDs de les dades auxiliars --> array([    0,     1,     2, ..., 91389, 91390, 91391])\n",
    "    \n",
    "    # Inicialitzem array per posar-hi els espectres\n",
    "    num = len(data_file.keys()) # Nombre d'espectres\n",
    "    observed_spectrum = np.zeros((num, 52)) \n",
    "\n",
    "    for idx, x in enumerate(id_order):\n",
    "        current_planet_id = f'Planet_{x}'\n",
    "        observed_spectrum[idx,:] = data_file[current_planet_id]['instrument_spectrum'][:]\n",
    "        \n",
    "    return observed_spectrum"
   ]
  },
  {
   "cell_type": "code",
   "execution_count": 7,
   "metadata": {
    "execution": {
     "iopub.execute_input": "2023-06-18T09:18:52.486275Z",
     "iopub.status.busy": "2023-06-18T09:18:52.485846Z",
     "iopub.status.idle": "2023-06-18T09:19:22.506698Z",
     "shell.execute_reply": "2023-06-18T09:19:22.505217Z"
    },
    "papermill": {
     "duration": 30.037637,
     "end_time": "2023-06-18T09:19:22.515510",
     "exception": false,
     "start_time": "2023-06-18T09:18:52.477873",
     "status": "completed"
    },
    "tags": []
   },
   "outputs": [
    {
     "name": "stdout",
     "output_type": "stream",
     "text": [
      "Dimensions de la matriu d'espectres:  (91392, 52)\n",
      "Mostra d'un espectre raw: \n",
      " [0.00167053 0.00145612 0.00146214 0.00143407 0.00138982 0.00134926\n",
      " 0.00131032 0.00128092 0.00131345 0.00135396 0.00149923 0.00156278\n",
      " 0.00163719 0.00167336 0.00168792 0.001731   0.00174372 0.00170247\n",
      " 0.0017284  0.00165156 0.00150569 0.00136781 0.00130069 0.00125444\n",
      " 0.00122416 0.00121673 0.00125308 0.00131122 0.00136757 0.00138232\n",
      " 0.00142169 0.00146799 0.00151336 0.00154108 0.00151537 0.00150134\n",
      " 0.00147106 0.00138322 0.00130667 0.00124601 0.00118818 0.00115435\n",
      " 0.00115514 0.00122624 0.00133425 0.00117747 0.00125106 0.00112899\n",
      " 0.00120413 0.00108887 0.00099446 0.00103997]\n"
     ]
    }
   ],
   "source": [
    "# Creem la matriu d'espectres observats (X)\n",
    "observed_matrix = to_observed_matrix(spectral_data, FM_params)\n",
    "print(\"Dimensions de la matriu d'espectres: \", observed_matrix.shape)\n",
    "\n",
    "# Mostra d'un espectre raw:\n",
    "print(\"Mostra d'un espectre raw: \\n\", observed_matrix[0,:])"
   ]
  },
  {
   "cell_type": "markdown",
   "metadata": {
    "papermill": {
     "duration": 0.006889,
     "end_time": "2023-06-18T09:19:22.529302",
     "exception": false,
     "start_time": "2023-06-18T09:19:22.522413",
     "status": "completed"
    },
    "tags": []
   },
   "source": [
    "A continuació, escalem cada espectre entre 0 i 100, per maximitzar la senyal de les seves característiques."
   ]
  },
  {
   "cell_type": "code",
   "execution_count": 8,
   "metadata": {
    "execution": {
     "iopub.execute_input": "2023-06-18T09:19:22.545337Z",
     "iopub.status.busy": "2023-06-18T09:19:22.544935Z",
     "iopub.status.idle": "2023-06-18T09:19:22.657546Z",
     "shell.execute_reply": "2023-06-18T09:19:22.656284Z"
    },
    "papermill": {
     "duration": 0.123817,
     "end_time": "2023-06-18T09:19:22.660279",
     "exception": false,
     "start_time": "2023-06-18T09:19:22.536462",
     "status": "completed"
    },
    "tags": []
   },
   "outputs": [
    {
     "name": "stdout",
     "output_type": "stream",
     "text": [
      "Mostra d'un espectre raw: \n",
      " [ 90.231  61.615  62.418  58.672  52.766  47.353  42.156  38.232  42.573\n",
      "  47.98   67.369  75.851  85.781  90.609  92.552  98.302 100.     94.495\n",
      "  97.955  87.7    68.231  49.829  40.87   34.697  30.656  29.665  34.517\n",
      "  42.276  49.797  51.766  57.02   63.199  69.255  72.954  69.523  67.651\n",
      "  63.609  51.885  41.669  33.573  25.855  21.34   21.445  30.934  45.349\n",
      "  24.425  34.247  17.954  27.984  12.6     0.      6.073]\n"
     ]
    }
   ],
   "source": [
    "# Escalem cada espectre entre 0 i 100.\n",
    "scaler = MinMaxScaler(feature_range = (0,100))\n",
    "observed_matrix_scaled = scaler.fit_transform(observed_matrix.T).T\n",
    "observed_matrix_scaled = np.round(observed_matrix_scaled,3)\n",
    "\n",
    "# Mostra d'un espectre escalat\n",
    "print(\"Mostra d'un espectre raw: \\n\", observed_matrix_scaled[0,:])"
   ]
  },
  {
   "cell_type": "markdown",
   "metadata": {
    "papermill": {
     "duration": 0.006087,
     "end_time": "2023-06-18T09:19:22.673121",
     "exception": false,
     "start_time": "2023-06-18T09:19:22.667034",
     "status": "completed"
    },
    "tags": []
   },
   "source": [
    "### Reducció de la memòria de X"
   ]
  },
  {
   "cell_type": "markdown",
   "metadata": {
    "papermill": {
     "duration": 0.00612,
     "end_time": "2023-06-18T09:19:22.685697",
     "exception": false,
     "start_time": "2023-06-18T09:19:22.679577",
     "status": "completed"
    },
    "tags": []
   },
   "source": [
    "Com que es tracta d'un conjunt de dades molt gran, optimitzem l'ús de memòria:"
   ]
  },
  {
   "cell_type": "code",
   "execution_count": 9,
   "metadata": {
    "execution": {
     "iopub.execute_input": "2023-06-18T09:19:22.700946Z",
     "iopub.status.busy": "2023-06-18T09:19:22.700022Z",
     "iopub.status.idle": "2023-06-18T09:19:22.716570Z",
     "shell.execute_reply": "2023-06-18T09:19:22.715002Z"
    },
    "papermill": {
     "duration": 0.027614,
     "end_time": "2023-06-18T09:19:22.719755",
     "exception": false,
     "start_time": "2023-06-18T09:19:22.692141",
     "status": "completed"
    },
    "tags": []
   },
   "outputs": [],
   "source": [
    "# Funció que optimitza l'ús de memòria per grans conjunts de dades\n",
    "# https://www.kaggle.com/general/156268\n",
    "# https://www.kaggle.com/code/rinnqd/reduce-memory-usage/notebook\n",
    "def reduce_mem_usage(df, verbose=True):\n",
    "    numerics = ['int16', 'int32', 'int64', 'float16', 'float32', 'float64']\n",
    "    start_mem = df.memory_usage().sum() / 1024**2\n",
    "    for col in df.columns:\n",
    "        col_type = df[col].dtypes\n",
    "        if col_type in numerics:\n",
    "            c_min = df[col].min()\n",
    "            c_max = df[col].max()\n",
    "            if str(col_type)[:3] == 'int':\n",
    "                if c_min > np.iinfo(np.int8).min and c_max < np.iinfo(np.int8).max:\n",
    "                    df[col] = df[col].astype(np.int8)\n",
    "                elif c_min > np.iinfo(np.int16).min and c_max < np.iinfo(np.int16).max:\n",
    "                    df[col] = df[col].astype(np.int16)\n",
    "                elif c_min > np.iinfo(np.int32).min and c_max < np.iinfo(np.int32).max:\n",
    "                    df[col] = df[col].astype(np.int32)\n",
    "                elif c_min > np.iinfo(np.int64).min and c_max < np.iinfo(np.int64).max:\n",
    "                    df[col] = df[col].astype(np.int64)\n",
    "            else:\n",
    "                if c_min > np.finfo(np.float16).min and c_max < np.finfo(np.float16).max:\n",
    "                    df[col] = df[col].astype(np.float16)\n",
    "                elif c_min > np.finfo(np.float32).min and c_max < np.finfo(np.float32).max:\n",
    "                    df[col] = df[col].astype(np.float32)\n",
    "                else:\n",
    "                    df[col] = df[col].astype(np.float64)\n",
    "\n",
    "    end_mem = df.memory_usage().sum() / 1024**2\n",
    "    print('Memory usage after optimization is: {:.2f} MB'.format(end_mem))\n",
    "    print('Decreased by {:.1f}%'.format(100 * (start_mem - end_mem) / start_mem))\n",
    "\n",
    "    return df"
   ]
  },
  {
   "cell_type": "code",
   "execution_count": 10,
   "metadata": {
    "execution": {
     "iopub.execute_input": "2023-06-18T09:19:22.734665Z",
     "iopub.status.busy": "2023-06-18T09:19:22.734241Z",
     "iopub.status.idle": "2023-06-18T09:19:23.156505Z",
     "shell.execute_reply": "2023-06-18T09:19:23.155067Z"
    },
    "papermill": {
     "duration": 0.433079,
     "end_time": "2023-06-18T09:19:23.159326",
     "exception": false,
     "start_time": "2023-06-18T09:19:22.726247",
     "status": "completed"
    },
    "tags": []
   },
   "outputs": [
    {
     "name": "stdout",
     "output_type": "stream",
     "text": [
      "Memory usage after optimization is: 9.06 MB\n",
      "Decreased by 75.0%\n"
     ]
    }
   ],
   "source": [
    "df = pd.DataFrame(observed_matrix_scaled)\n",
    "#df.memory_usage().sum() / 1024**2 #MB\n",
    "df_reduced = reduce_mem_usage(df)\n",
    "observed_matrix_scaled_reduced = df_reduced.values\n"
   ]
  },
  {
   "cell_type": "markdown",
   "metadata": {
    "papermill": {
     "duration": 0.006277,
     "end_time": "2023-06-18T09:19:23.172198",
     "exception": false,
     "start_time": "2023-06-18T09:19:23.165921",
     "status": "completed"
    },
    "tags": []
   },
   "source": [
    "## Preparar dades Y (paràmetres atmosfèrics)"
   ]
  },
  {
   "cell_type": "code",
   "execution_count": 11,
   "metadata": {
    "execution": {
     "iopub.execute_input": "2023-06-18T09:19:23.187758Z",
     "iopub.status.busy": "2023-06-18T09:19:23.187347Z",
     "iopub.status.idle": "2023-06-18T09:19:23.207324Z",
     "shell.execute_reply": "2023-06-18T09:19:23.205950Z"
    },
    "papermill": {
     "duration": 0.031146,
     "end_time": "2023-06-18T09:19:23.210161",
     "exception": false,
     "start_time": "2023-06-18T09:19:23.179015",
     "status": "completed"
    },
    "tags": []
   },
   "outputs": [
    {
     "data": {
      "text/plain": [
       "(91392, 6)"
      ]
     },
     "execution_count": 11,
     "metadata": {},
     "output_type": "execute_result"
    }
   ],
   "source": [
    "# Creem la matriu de variables resposta (ja està ben ordenada)\n",
    "params_matrix = FM_params.drop(['planet_ID'], axis=1).to_numpy()\n",
    "params_matrix.shape\n",
    "\n",
    "#scaler_Y = StandardScaler()\n",
    "#params_matrix_scaled = scaler_Y.fit_transform(params_matrix)"
   ]
  },
  {
   "cell_type": "code",
   "execution_count": 12,
   "metadata": {
    "execution": {
     "iopub.execute_input": "2023-06-18T09:19:23.225463Z",
     "iopub.status.busy": "2023-06-18T09:19:23.224998Z",
     "iopub.status.idle": "2023-06-18T09:19:23.234566Z",
     "shell.execute_reply": "2023-06-18T09:19:23.233305Z"
    },
    "papermill": {
     "duration": 0.020555,
     "end_time": "2023-06-18T09:19:23.237375",
     "exception": false,
     "start_time": "2023-06-18T09:19:23.216820",
     "status": "completed"
    },
    "tags": []
   },
   "outputs": [
    {
     "data": {
      "text/plain": [
       "['planet_temp', 'log_H2O', 'log_CO2', 'log_CH4', 'log_CO', 'log_NH3']"
      ]
     },
     "execution_count": 12,
     "metadata": {},
     "output_type": "execute_result"
    }
   ],
   "source": [
    "# Noms de les variables resposta\n",
    "param_names = FM_params.drop(['planet_ID'], axis=1).columns.tolist()\n",
    "param_names"
   ]
  },
  {
   "cell_type": "markdown",
   "metadata": {
    "papermill": {
     "duration": 0.006523,
     "end_time": "2023-06-18T09:19:23.251077",
     "exception": false,
     "start_time": "2023-06-18T09:19:23.244554",
     "status": "completed"
    },
    "tags": []
   },
   "source": [
    "## Guardar les dades"
   ]
  },
  {
   "cell_type": "code",
   "execution_count": 13,
   "metadata": {
    "execution": {
     "iopub.execute_input": "2023-06-18T09:19:23.266732Z",
     "iopub.status.busy": "2023-06-18T09:19:23.266290Z",
     "iopub.status.idle": "2023-06-18T09:19:23.359784Z",
     "shell.execute_reply": "2023-06-18T09:19:23.358586Z"
    },
    "papermill": {
     "duration": 0.104932,
     "end_time": "2023-06-18T09:19:23.362803",
     "exception": false,
     "start_time": "2023-06-18T09:19:23.257871",
     "status": "completed"
    },
    "tags": []
   },
   "outputs": [],
   "source": [
    "# Guardar un array (https://www.kaggle.com/code/febymelania/save-and-load-array)\n",
    "\n",
    "# Dades X \n",
    "np.save('/kaggle/working/X_names', wl_names)\n",
    "np.save('/kaggle/working/X_wl_values', wl_values)\n",
    "np.save('/kaggle/working/X', observed_matrix)\n",
    "np.save('/kaggle/working/X_minMaxScaled', observed_matrix_scaled) # scaled\n",
    "np.save('/kaggle/working/X_minMaxScaled_opt', observed_matrix_scaled_reduced) # scaled + memory-optimised\n",
    "\n",
    "# Dades Y \n",
    "np.save('/kaggle/working/Y_FM_names', param_names)\n",
    "np.save('/kaggle/working/Y_FM', params_matrix)\n",
    "#np.save('/kaggle/working/Y_FM_standScaled', params_matrix_scaled)\n",
    "\n"
   ]
  },
  {
   "cell_type": "code",
   "execution_count": 14,
   "metadata": {
    "execution": {
     "iopub.execute_input": "2023-06-18T09:19:23.378483Z",
     "iopub.status.busy": "2023-06-18T09:19:23.378077Z",
     "iopub.status.idle": "2023-06-18T09:19:23.383658Z",
     "shell.execute_reply": "2023-06-18T09:19:23.382243Z"
    },
    "papermill": {
     "duration": 0.016672,
     "end_time": "2023-06-18T09:19:23.386259",
     "exception": false,
     "start_time": "2023-06-18T09:19:23.369587",
     "status": "completed"
    },
    "tags": []
   },
   "outputs": [],
   "source": [
    "# Carregar dades guardades\n",
    "# np.load('/kaggle/working/X_minMaxScaled_opt.npy') \n",
    "\n",
    "# Eliminar fitxers\n",
    "# os.remove(\"/kaggle/working/X_data_names.npy\")\n",
    "# os.remove(\"/kaggle/working/X_data_minMaxScaled.npy\")\n",
    "# os.remove(\"/kaggle/working/Y_data_names.npy\")\n",
    "# os.remove(\"/kaggle/working/Y_data_standScaled.npy\")"
   ]
  }
 ],
 "metadata": {
  "kernelspec": {
   "display_name": "Python 3",
   "language": "python",
   "name": "python3"
  },
  "language_info": {
   "codemirror_mode": {
    "name": "ipython",
    "version": 3
   },
   "file_extension": ".py",
   "mimetype": "text/x-python",
   "name": "python",
   "nbconvert_exporter": "python",
   "pygments_lexer": "ipython3",
   "version": "3.8.5"
  },
  "papermill": {
   "default_parameters": {},
   "duration": 73.493355,
   "end_time": "2023-06-18T09:19:24.617969",
   "environment_variables": {},
   "exception": null,
   "input_path": "__notebook__.ipynb",
   "output_path": "__notebook__.ipynb",
   "parameters": {},
   "start_time": "2023-06-18T09:18:11.124614",
   "version": "2.4.0"
  }
 },
 "nbformat": 4,
 "nbformat_minor": 5
}
